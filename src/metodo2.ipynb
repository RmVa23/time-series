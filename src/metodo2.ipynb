{
 "cells": [
  {
   "cell_type": "code",
   "execution_count": 1,
   "metadata": {},
   "outputs": [],
   "source": [
    "import pandas as pd\n",
    "import numpy as np\n",
    "import statsmodels.api as sm\n",
    "from sklearn.linear_model import LinearRegression\n",
    "from sklearn.metrics import *\n",
    "from sklearn.multioutput import MultiOutputRegressor, RegressorChain"
   ]
  },
  {
   "cell_type": "code",
   "execution_count": 2,
   "metadata": {},
   "outputs": [
    {
     "data": {
      "text/html": [
       "<div>\n",
       "<style scoped>\n",
       "    .dataframe tbody tr th:only-of-type {\n",
       "        vertical-align: middle;\n",
       "    }\n",
       "\n",
       "    .dataframe tbody tr th {\n",
       "        vertical-align: top;\n",
       "    }\n",
       "\n",
       "    .dataframe thead th {\n",
       "        text-align: right;\n",
       "    }\n",
       "</style>\n",
       "<table border=\"1\" class=\"dataframe\">\n",
       "  <thead>\n",
       "    <tr style=\"text-align: right;\">\n",
       "      <th></th>\n",
       "      <th>date</th>\n",
       "      <th>sales</th>\n",
       "    </tr>\n",
       "  </thead>\n",
       "  <tbody>\n",
       "    <tr>\n",
       "      <th>0</th>\n",
       "      <td>2022-09-03</td>\n",
       "      <td>55.292157</td>\n",
       "    </tr>\n",
       "    <tr>\n",
       "      <th>1</th>\n",
       "      <td>2022-09-04</td>\n",
       "      <td>53.803211</td>\n",
       "    </tr>\n",
       "    <tr>\n",
       "      <th>2</th>\n",
       "      <td>2022-09-05</td>\n",
       "      <td>58.141693</td>\n",
       "    </tr>\n",
       "    <tr>\n",
       "      <th>3</th>\n",
       "      <td>2022-09-06</td>\n",
       "      <td>64.530899</td>\n",
       "    </tr>\n",
       "    <tr>\n",
       "      <th>4</th>\n",
       "      <td>2022-09-07</td>\n",
       "      <td>66.013633</td>\n",
       "    </tr>\n",
       "  </tbody>\n",
       "</table>\n",
       "</div>"
      ],
      "text/plain": [
       "         date      sales\n",
       "0  2022-09-03  55.292157\n",
       "1  2022-09-04  53.803211\n",
       "2  2022-09-05  58.141693\n",
       "3  2022-09-06  64.530899\n",
       "4  2022-09-07  66.013633"
      ]
     },
     "execution_count": 2,
     "metadata": {},
     "output_type": "execute_result"
    }
   ],
   "source": [
    "data = pd.read_csv('/workspaces/time-series/data/processed/time-serie.csv')\n",
    "data.head()"
   ]
  },
  {
   "cell_type": "code",
   "execution_count": 3,
   "metadata": {},
   "outputs": [
    {
     "data": {
      "text/plain": [
       "date\n",
       "2022-09-03      55.292157\n",
       "2022-09-04      53.803211\n",
       "2022-09-05      58.141693\n",
       "2022-09-06      64.530899\n",
       "2022-09-07      66.013633\n",
       "                 ...     \n",
       "2023-08-30     989.600354\n",
       "2023-08-31     994.987326\n",
       "2023-09-01     995.814415\n",
       "2023-09-02     997.350214\n",
       "2023-09-03    1000.482785\n",
       "Name: sales, Length: 366, dtype: float64"
      ]
     },
     "execution_count": 3,
     "metadata": {},
     "output_type": "execute_result"
    }
   ],
   "source": [
    "data = data.set_index(\"date\")  # establece la columna \"date\" como el índice del DataFrame\n",
    "ts = data[\"sales\"]\n",
    "ts"
   ]
  },
  {
   "cell_type": "code",
   "execution_count": 4,
   "metadata": {},
   "outputs": [],
   "source": [
    "data_train = ts.iloc[:-91]\n",
    "data_test = ts.iloc[-91:]"
   ]
  },
  {
   "cell_type": "code",
   "execution_count": 5,
   "metadata": {},
   "outputs": [
    {
     "data": {
      "text/plain": [
       "date\n",
       "2023-05-31    753.936865\n",
       "2023-06-01    747.024687\n",
       "2023-06-02    763.812942\n",
       "2023-06-03    761.718225\n",
       "2023-06-04    761.193459\n",
       "Name: sales, dtype: float64"
      ]
     },
     "execution_count": 5,
     "metadata": {},
     "output_type": "execute_result"
    }
   ],
   "source": [
    "data_train.tail()"
   ]
  },
  {
   "cell_type": "code",
   "execution_count": 6,
   "metadata": {},
   "outputs": [
    {
     "data": {
      "text/plain": [
       "date\n",
       "2023-06-05    764.580565\n",
       "2023-06-06    769.837390\n",
       "2023-06-07    770.610592\n",
       "2023-06-08    767.469590\n",
       "2023-06-09    782.357862\n",
       "Name: sales, dtype: float64"
      ]
     },
     "execution_count": 6,
     "metadata": {},
     "output_type": "execute_result"
    }
   ],
   "source": [
    "data_test.head()"
   ]
  },
  {
   "cell_type": "code",
   "execution_count": 7,
   "metadata": {},
   "outputs": [],
   "source": [
    "# Definir el tamaño de la ventana (n) para crear las secuencias de datos\n",
    "n = 4\n",
    "\n",
    "# Crear las secuencias de entrenamiento\n",
    "XY_train = np.array([data_train.iloc[i:i+n].values for i in range(len(data_train)-n+1)])\n",
    "\n",
    "# Extraer las características (X_train) y las etiquetas (y_train) de los datos de entrenamiento\n",
    "X_train, y_train = XY_train[:, :-1], XY_train[:, -1]\n",
    "\n",
    "# Crear las secuencias de prueba\n",
    "XY_test = np.array([data_test.iloc[i:i+n].values for i in range(len(data_test)-n+1)])\n",
    "\n",
    "# Extraer las características (X_test) y las etiquetas (y_test) de los datos de prueba\n",
    "X_test, y_test = XY_test[:, :-1], XY_test[:, -1]"
   ]
  },
  {
   "cell_type": "markdown",
   "metadata": {},
   "source": [
    " - n = 4: Este es el tamaño de la ventana que determina cuántos puntos de datos consecutivos se utilizarán para predecir el siguiente punto de datos.\n",
    " - XY_train: Se crea una matriz que contiene secuencias de longitud n de datos de ventas consecutivos para el conjunto de entrenamiento. Se utiliza una lista de comprensión para recorrer todos los puntos de datos en el conjunto de entrenamiento y seleccionar secuencias de longitud n. Cada secuencia se convierte en un array NumPy y se agrega a XY_train.\n",
    " - X_train, y_train: Se separan las características (X_train) y las etiquetas (y_train) de las secuencias de entrenamiento XY_train. Las características (X_train) son todas las columnas excepto la última, que se usa como etiqueta (y_train).\n",
    " - XY_test: Se realiza un proceso similar para crear las secuencias de prueba, pero utilizando el conjunto de prueba en lugar del conjunto de entrenamiento.\n",
    " - X_test, y_test: Se separan las características (X_test) y las etiquetas (y_test) de las secuencias de prueba XY_test.\n",
    "\n",
    "El objetivo de crear el array XY_train es estructurar los datos de entrenamiento de tal manera que puedan alimentarse fácilmente al modelo de regresión lineal. Cada fila de XY_train representa una secuencia de 4 puntos de datos de ventas consecutivos. Esto significa que cada fila contiene 4 valores de ventas consecutivos. Esto es útil porque en un modelo de regresión lineal, necesitamos características (X) y la variable objetivo (y). Al organizar los datos de esta manera, las características (X) serán los primeros 3 valores de ventas en cada fila, y la variable objetivo (y) será el último valor de ventas en cada fila."
   ]
  },
  {
   "cell_type": "code",
   "execution_count": 8,
   "metadata": {},
   "outputs": [],
   "source": [
    "# Crear el modelo de regresión lineal\n",
    "X_train_const = sm.add_constant(X_train)\n",
    "model = sm.OLS(y_train, X_train_const)\n",
    "# Ajustar el modelo a los datos\n",
    "results = model.fit()"
   ]
  },
  {
   "cell_type": "markdown",
   "metadata": {},
   "source": [
    "Añade una columna de unos (constante) a la matriz de características de entrenamiento X_train utilizando sm.add_constant().\n",
    "\n",
    "Esta columna constante es necesaria para calcular el intercepto en el modelo de regresión lineal.\n",
    "\n",
    " En una regresión lineal, el término de intersección (o sesgo) es importante. Representa el valor esperado de la variable dependiente cuando todas las variables independientes son iguales a cero. Agregar una columna de unos a las características garantiza que el modelo incluya este término de intersección. Sin esta columna, el modelo asumiría que el término de intersección es cero, lo cual no sería apropiado en la mayoría de los casos.\n",
    "\n",
    "Crea un modelo de regresión lineal ordinaria (OLS) utilizando la biblioteca statsmodels. Se ajusta el modelo utilizando la función sm.OLS(y_train, X_train_const), donde y_train es la variable de respuesta (la columna sales que se intenta predecir) y X_train_const es la matriz de características de entrenamiento, que incluye la columna constante añadida."
   ]
  },
  {
   "cell_type": "code",
   "execution_count": 9,
   "metadata": {},
   "outputs": [
    {
     "name": "stdout",
     "output_type": "stream",
     "text": [
      "                            OLS Regression Results                            \n",
      "==============================================================================\n",
      "Dep. Variable:                      y   R-squared:                       1.000\n",
      "Model:                            OLS   Adj. R-squared:                  1.000\n",
      "Method:                 Least Squares   F-statistic:                 3.281e+05\n",
      "Date:                Wed, 08 May 2024   Prob (F-statistic):               0.00\n",
      "Time:                        15:44:28   Log-Likelihood:                -716.18\n",
      "No. Observations:                 272   AIC:                             1440.\n",
      "Df Residuals:                     268   BIC:                             1455.\n",
      "Df Model:                           3                                         \n",
      "Covariance Type:            nonrobust                                         \n",
      "==============================================================================\n",
      "                 coef    std err          t      P>|t|      [0.025      0.975]\n",
      "------------------------------------------------------------------------------\n",
      "const          5.3091      0.522     10.161      0.000       4.280       6.338\n",
      "x1             0.3574      0.057      6.227      0.000       0.244       0.470\n",
      "x2             0.3539      0.056      6.346      0.000       0.244       0.464\n",
      "x3             0.2888      0.057      5.037      0.000       0.176       0.402\n",
      "==============================================================================\n",
      "Omnibus:                        0.708   Durbin-Watson:                   2.126\n",
      "Prob(Omnibus):                  0.702   Jarque-Bera (JB):                0.797\n",
      "Skew:                           0.026   Prob(JB):                        0.671\n",
      "Kurtosis:                       2.740   Cond. No.                     2.00e+03\n",
      "==============================================================================\n",
      "\n",
      "Notes:\n",
      "[1] Standard Errors assume that the covariance matrix of the errors is correctly specified.\n",
      "[2] The condition number is large,  2e+03. This might indicate that there are\n",
      "strong multicollinearity or other numerical problems.\n"
     ]
    }
   ],
   "source": [
    "print(results.summary())"
   ]
  },
  {
   "cell_type": "code",
   "execution_count": 10,
   "metadata": {},
   "outputs": [],
   "source": [
    "def wf_validation(X_train, y_train, X_test, y_test):\n",
    "  y_pred = []\n",
    "  for i in range(len(y_test)):\n",
    "    yhat = LinearRegression().fit(X_train,y_train).predict(np.array([X_test[i]]))[0]\n",
    "    y_pred.append(yhat)\n",
    "    X_train, y_train = np.vstack((X_train, X_test[i])), np.hstack((y_train, y_test[i]))\n",
    "  return y_pred\n",
    "y_pred = wf_validation(X_train, y_train, X_test, y_test)"
   ]
  },
  {
   "cell_type": "code",
   "execution_count": 11,
   "metadata": {},
   "outputs": [
    {
     "name": "stdout",
     "output_type": "stream",
     "text": [
      "0.9974876317432907 0.302427674995026 2.6428857473343856\n"
     ]
    }
   ],
   "source": [
    "print(r2_score(y_test,y_pred), mean_absolute_percentage_error(y_test,y_pred)*100, mean_absolute_error(y_test,y_pred))"
   ]
  },
  {
   "cell_type": "markdown",
   "metadata": {},
   "source": [
    " El modelo tiene un R-cuadrado de aproximadamente 0.9975, lo que indica que explica la variabilidad en los datos de prueba muy bien.\n",
    " El error porcentual absoluto medio es del 0.302%, lo que sugiere que las predicciones del modelo están muy cerca de los valores reales. Además, el error absoluto medio es de aproximadamente 2.64, lo que indica que, en promedio, las predicciones del modelo están a una distancia de 2.64 unidades del valor real.\n",
    " \n",
    " En general, estos resultados sugieren que el modelo de regresión lineal tiene un buen rendimiento en la tarea de predicción."
   ]
  },
  {
   "cell_type": "code",
   "execution_count": 15,
   "metadata": {},
   "outputs": [],
   "source": [
    "in_len, out_len = 6, 2\n",
    "n = in_len+out_len\n",
    "\n",
    "XY_train = np.array([data_train[i:i+n].values for i in range(len(data_train)) if len(data_train[i:i+n])==n])\n",
    "X_train, y_train = XY_train[:,:in_len], XY_train[:,-out_len:]\n",
    "\n",
    "XY_test = np.array([data_test[i:i+n].values for i in range(len(data_test)) if len(data_test[i:i+n])==n])\n",
    "X_test, y_test = XY_test[:,:in_len], XY_test[:,-out_len:]"
   ]
  },
  {
   "cell_type": "code",
   "execution_count": 16,
   "metadata": {},
   "outputs": [
    {
     "data": {
      "text/plain": [
       "array([55.29215704, 53.80321135, 58.1416934 , 64.53089878, 66.01363287,\n",
       "       60.08186499, 68.46670361, 67.76510646, 70.51226125, 74.65645304,\n",
       "       76.45952797, 82.99295751, 83.51598989, 84.20064149, 87.76994586])"
      ]
     },
     "execution_count": 16,
     "metadata": {},
     "output_type": "execute_result"
    }
   ],
   "source": [
    "data_train.values[:15]"
   ]
  },
  {
   "cell_type": "code",
   "execution_count": 17,
   "metadata": {},
   "outputs": [
    {
     "data": {
      "text/plain": [
       "array([[ 55.29215704,  53.80321135,  58.1416934 ,  64.53089878,\n",
       "         66.01363287,  60.08186499],\n",
       "       [ 53.80321135,  58.1416934 ,  64.53089878,  66.01363287,\n",
       "         60.08186499,  68.46670361],\n",
       "       [ 58.1416934 ,  64.53089878,  66.01363287,  60.08186499,\n",
       "         68.46670361,  67.76510646],\n",
       "       ...,\n",
       "       [740.29236319, 743.90044019, 745.19677311, 746.60158806,\n",
       "        750.4291868 , 753.93686506],\n",
       "       [743.90044019, 745.19677311, 746.60158806, 750.4291868 ,\n",
       "        753.93686506, 747.02468748],\n",
       "       [745.19677311, 746.60158806, 750.4291868 , 753.93686506,\n",
       "        747.02468748, 763.8129424 ]])"
      ]
     },
     "execution_count": 17,
     "metadata": {},
     "output_type": "execute_result"
    }
   ],
   "source": [
    "X_train"
   ]
  },
  {
   "cell_type": "code",
   "execution_count": 18,
   "metadata": {},
   "outputs": [
    {
     "data": {
      "text/plain": [
       "array([[ 68.46670361,  67.76510646],\n",
       "       [ 67.76510646,  70.51226125],\n",
       "       [ 70.51226125,  74.65645304],\n",
       "       [ 74.65645304,  76.45952797],\n",
       "       [ 76.45952797,  82.99295751],\n",
       "       [ 82.99295751,  83.51598989],\n",
       "       [ 83.51598989,  84.20064149],\n",
       "       [ 84.20064149,  87.76994586],\n",
       "       [ 87.76994586,  90.04211887],\n",
       "       [ 90.04211887,  96.12607284],\n",
       "       [ 96.12607284,  93.63110055],\n",
       "       [ 93.63110055,  97.78851817],\n",
       "       [ 97.78851817,  96.88976758],\n",
       "       [ 96.88976758,  94.39582507],\n",
       "       [ 94.39582507, 106.61839003],\n",
       "       [106.61839003, 109.85358257],\n",
       "       [109.85358257, 107.63651864],\n",
       "       [107.63651864, 119.2750173 ],\n",
       "       [119.2750173 , 110.70539613],\n",
       "       [110.70539613, 117.80850843],\n",
       "       [117.80850843, 119.71242105],\n",
       "       [119.71242105, 127.47504997],\n",
       "       [127.47504997, 129.88752836],\n",
       "       [129.88752836, 128.54703406],\n",
       "       [128.54703406, 131.81941907],\n",
       "       [131.81941907, 130.62431399],\n",
       "       [130.62431399, 129.94802155],\n",
       "       [129.94802155, 137.44941424],\n",
       "       [137.44941424, 141.56493732],\n",
       "       [141.56493732, 147.38950218],\n",
       "       [147.38950218, 149.90850941],\n",
       "       [149.90850941, 147.74212914],\n",
       "       [147.74212914, 150.59994106],\n",
       "       [150.59994106, 150.96393015],\n",
       "       [150.96393015, 152.45227496],\n",
       "       [152.45227496, 154.19625792],\n",
       "       [154.19625792, 167.7701344 ],\n",
       "       [167.7701344 , 162.9915914 ],\n",
       "       [162.9915914 , 165.80906477],\n",
       "       [165.80906477, 165.96764132],\n",
       "       [165.96764132, 174.66123819],\n",
       "       [174.66123819, 170.08981331],\n",
       "       [170.08981331, 176.89602573],\n",
       "       [176.89602573, 177.45058662],\n",
       "       [177.45058662, 183.90043352],\n",
       "       [183.90043352, 183.81005034],\n",
       "       [183.81005034, 184.40330893],\n",
       "       [184.40330893, 190.46339852],\n",
       "       [190.46339852, 194.43568054],\n",
       "       [194.43568054, 195.95297632],\n",
       "       [195.95297632, 199.26358008],\n",
       "       [199.26358008, 199.05593783],\n",
       "       [199.05593783, 202.47342034],\n",
       "       [202.47342034, 204.14700222],\n",
       "       [204.14700222, 207.6884638 ],\n",
       "       [207.6884638 , 208.93042417],\n",
       "       [208.93042417, 208.79375493],\n",
       "       [208.79375493, 217.10762089],\n",
       "       [217.10762089, 217.97273938],\n",
       "       [217.97273938, 216.89022688],\n",
       "       [216.89022688, 225.77190841],\n",
       "       [225.77190841, 224.26440628],\n",
       "       [224.26440628, 229.74487728],\n",
       "       [229.74487728, 234.37905251],\n",
       "       [234.37905251, 235.18146928],\n",
       "       [235.18146928, 240.81546233],\n",
       "       [240.81546233, 236.29552254],\n",
       "       [236.29552254, 243.80976465],\n",
       "       [243.80976465, 243.15104918],\n",
       "       [243.15104918, 245.19582773],\n",
       "       [245.19582773, 248.67440991],\n",
       "       [248.67440991, 252.07904103],\n",
       "       [252.07904103, 255.78493438],\n",
       "       [255.78493438, 254.72372856],\n",
       "       [254.72372856, 263.52439727],\n",
       "       [263.52439727, 264.82164485],\n",
       "       [264.82164485, 261.4186662 ],\n",
       "       [261.4186662 , 273.09489357],\n",
       "       [273.09489357, 276.92054424],\n",
       "       [276.92054424, 277.37195515],\n",
       "       [277.37195515, 275.89858166],\n",
       "       [275.89858166, 275.82883803],\n",
       "       [275.82883803, 284.8071908 ],\n",
       "       [284.8071908 , 283.0370445 ],\n",
       "       [283.0370445 , 290.51665028],\n",
       "       [290.51665028, 290.07687973],\n",
       "       [290.07687973, 294.98471163],\n",
       "       [294.98471163, 295.72663344],\n",
       "       [295.72663344, 299.37999348],\n",
       "       [299.37999348, 299.89451376],\n",
       "       [299.89451376, 307.82336491],\n",
       "       [307.82336491, 305.44922943],\n",
       "       [305.44922943, 308.87720097],\n",
       "       [308.87720097, 315.92342469],\n",
       "       [315.92342469, 308.83343515],\n",
       "       [308.83343515, 311.66799706],\n",
       "       [311.66799706, 320.99038191],\n",
       "       [320.99038191, 317.16556129],\n",
       "       [317.16556129, 329.11853479],\n",
       "       [329.11853479, 324.64955402],\n",
       "       [324.64955402, 326.25078625],\n",
       "       [326.25078625, 336.86471649],\n",
       "       [336.86471649, 338.14017451],\n",
       "       [338.14017451, 341.90404674],\n",
       "       [341.90404674, 341.62224356],\n",
       "       [341.62224356, 338.92317226],\n",
       "       [338.92317226, 349.8397839 ],\n",
       "       [349.8397839 , 345.90831865],\n",
       "       [345.90831865, 351.72243768],\n",
       "       [351.72243768, 354.75956412],\n",
       "       [354.75956412, 354.05551767],\n",
       "       [354.05551767, 358.96552578],\n",
       "       [358.96552578, 362.49264741],\n",
       "       [362.49264741, 363.45804372],\n",
       "       [363.45804372, 361.63330448],\n",
       "       [361.63330448, 368.4289611 ],\n",
       "       [368.4289611 , 374.11614399],\n",
       "       [374.11614399, 370.65602245],\n",
       "       [370.65602245, 374.89356213],\n",
       "       [374.89356213, 376.63974482],\n",
       "       [376.63974482, 386.09573639],\n",
       "       [386.09573639, 385.1675692 ],\n",
       "       [385.1675692 , 386.97581017],\n",
       "       [386.97581017, 386.04641616],\n",
       "       [386.04641616, 392.57665168],\n",
       "       [392.57665168, 391.53864585],\n",
       "       [391.53864585, 396.25987524],\n",
       "       [396.25987524, 396.85958505],\n",
       "       [396.85958505, 403.3991629 ],\n",
       "       [403.3991629 , 405.70237519],\n",
       "       [405.70237519, 405.9504462 ],\n",
       "       [405.9504462 , 410.36610233],\n",
       "       [410.36610233, 408.50163739],\n",
       "       [408.50163739, 409.90978887],\n",
       "       [409.90978887, 418.30447647],\n",
       "       [418.30447647, 420.08906158],\n",
       "       [420.08906158, 424.09687513],\n",
       "       [424.09687513, 431.94395487],\n",
       "       [431.94395487, 430.23069873],\n",
       "       [430.23069873, 427.26153332],\n",
       "       [427.26153332, 435.95378859],\n",
       "       [435.95378859, 431.25775722],\n",
       "       [431.25775722, 436.42346536],\n",
       "       [436.42346536, 440.20623409],\n",
       "       [440.20623409, 448.1537268 ],\n",
       "       [448.1537268 , 443.38217389],\n",
       "       [443.38217389, 445.73986247],\n",
       "       [445.73986247, 450.52656023],\n",
       "       [450.52656023, 451.43422268],\n",
       "       [451.43422268, 459.40730503],\n",
       "       [459.40730503, 455.39034246],\n",
       "       [455.39034246, 457.79047076],\n",
       "       [457.79047076, 462.5221563 ],\n",
       "       [462.5221563 , 464.94425881],\n",
       "       [464.94425881, 474.82969205],\n",
       "       [474.82969205, 474.49209804],\n",
       "       [474.49209804, 474.50922907],\n",
       "       [474.50922907, 473.17300851],\n",
       "       [473.17300851, 481.98514372],\n",
       "       [481.98514372, 479.05414848],\n",
       "       [479.05414848, 480.02322096],\n",
       "       [480.02322096, 490.82436335],\n",
       "       [490.82436335, 490.81384153],\n",
       "       [490.81384153, 495.2283299 ],\n",
       "       [495.2283299 , 496.02467611],\n",
       "       [496.02467611, 500.24172471],\n",
       "       [500.24172471, 498.32089582],\n",
       "       [498.32089582, 499.7739838 ],\n",
       "       [499.7739838 , 507.52423561],\n",
       "       [507.52423561, 505.67196279],\n",
       "       [505.67196279, 508.61628217],\n",
       "       [508.61628217, 511.92107372],\n",
       "       [511.92107372, 515.94284844],\n",
       "       [515.94284844, 517.43116895],\n",
       "       [517.43116895, 516.97103653],\n",
       "       [516.97103653, 521.76777493],\n",
       "       [521.76777493, 519.63116041],\n",
       "       [519.63116041, 530.77980394],\n",
       "       [530.77980394, 526.70067635],\n",
       "       [526.70067635, 530.79643902],\n",
       "       [530.79643902, 536.868824  ],\n",
       "       [536.868824  , 537.0963795 ],\n",
       "       [537.0963795 , 546.54685201],\n",
       "       [546.54685201, 540.64197722],\n",
       "       [540.64197722, 547.92444028],\n",
       "       [547.92444028, 549.60817894],\n",
       "       [549.60817894, 548.82448663],\n",
       "       [548.82448663, 556.50133683],\n",
       "       [556.50133683, 557.01960758],\n",
       "       [557.01960758, 562.45235796],\n",
       "       [562.45235796, 565.21023849],\n",
       "       [565.21023849, 571.8321736 ],\n",
       "       [571.8321736 , 571.95478933],\n",
       "       [571.95478933, 569.44039969],\n",
       "       [569.44039969, 572.4325474 ],\n",
       "       [572.4325474 , 579.05240345],\n",
       "       [579.05240345, 580.32195558],\n",
       "       [580.32195558, 582.87929869],\n",
       "       [582.87929869, 578.7107757 ],\n",
       "       [578.7107757 , 586.09140519],\n",
       "       [586.09140519, 586.55303056],\n",
       "       [586.55303056, 592.20963681],\n",
       "       [592.20963681, 593.67815157],\n",
       "       [593.67815157, 599.30587919],\n",
       "       [599.30587919, 600.12973684],\n",
       "       [600.12973684, 604.1398058 ],\n",
       "       [604.1398058 , 602.98430435],\n",
       "       [602.98430435, 604.1529626 ],\n",
       "       [604.1529626 , 608.35889202],\n",
       "       [608.35889202, 612.14071958],\n",
       "       [612.14071958, 615.93197575],\n",
       "       [615.93197575, 624.17518713],\n",
       "       [624.17518713, 619.87322855],\n",
       "       [619.87322855, 619.73490472],\n",
       "       [619.73490472, 624.16753412],\n",
       "       [624.16753412, 626.41743125],\n",
       "       [626.41743125, 631.85540333],\n",
       "       [631.85540333, 628.39130759],\n",
       "       [628.39130759, 635.80622434],\n",
       "       [635.80622434, 638.6886977 ],\n",
       "       [638.6886977 , 641.51846092],\n",
       "       [641.51846092, 641.63270933],\n",
       "       [641.63270933, 645.31363207],\n",
       "       [645.31363207, 644.35795426],\n",
       "       [644.35795426, 649.75291706],\n",
       "       [649.75291706, 652.20703201],\n",
       "       [652.20703201, 657.6865063 ],\n",
       "       [657.6865063 , 655.57254859],\n",
       "       [655.57254859, 663.98742992],\n",
       "       [663.98742992, 668.73002898],\n",
       "       [668.73002898, 660.63935999],\n",
       "       [660.63935999, 670.73083099],\n",
       "       [670.73083099, 674.08551863],\n",
       "       [674.08551863, 672.74522317],\n",
       "       [672.74522317, 676.06845853],\n",
       "       [676.06845853, 679.46437197],\n",
       "       [679.46437197, 681.57238079],\n",
       "       [681.57238079, 684.14145424],\n",
       "       [684.14145424, 682.64322146],\n",
       "       [682.64322146, 693.7309673 ],\n",
       "       [693.7309673 , 696.1155681 ],\n",
       "       [696.1155681 , 693.03935928],\n",
       "       [693.03935928, 693.6829188 ],\n",
       "       [693.6829188 , 702.24812614],\n",
       "       [702.24812614, 701.56030732],\n",
       "       [701.56030732, 706.31627045],\n",
       "       [706.31627045, 707.53516543],\n",
       "       [707.53516543, 713.17050666],\n",
       "       [713.17050666, 715.78287757],\n",
       "       [715.78287757, 714.12457773],\n",
       "       [714.12457773, 714.75401772],\n",
       "       [714.75401772, 716.75803412],\n",
       "       [716.75803412, 725.94072718],\n",
       "       [725.94072718, 723.14575099],\n",
       "       [723.14575099, 727.79461943],\n",
       "       [727.79461943, 730.1288661 ],\n",
       "       [730.1288661 , 734.36284606],\n",
       "       [734.36284606, 731.31444825],\n",
       "       [731.31444825, 740.29236319],\n",
       "       [740.29236319, 743.90044019],\n",
       "       [743.90044019, 745.19677311],\n",
       "       [745.19677311, 746.60158806],\n",
       "       [746.60158806, 750.4291868 ],\n",
       "       [750.4291868 , 753.93686506],\n",
       "       [753.93686506, 747.02468748],\n",
       "       [747.02468748, 763.8129424 ],\n",
       "       [763.8129424 , 761.71822517],\n",
       "       [761.71822517, 761.19345918]])"
      ]
     },
     "execution_count": 18,
     "metadata": {},
     "output_type": "execute_result"
    }
   ],
   "source": [
    "y_train"
   ]
  },
  {
   "cell_type": "code",
   "execution_count": 19,
   "metadata": {},
   "outputs": [],
   "source": [
    "modelo = MultiOutputRegressor(LinearRegression()).fit(X_train, y_train)\n",
    "y_pred_multi = modelo.predict(X_test)"
   ]
  },
  {
   "cell_type": "code",
   "execution_count": 20,
   "metadata": {},
   "outputs": [
    {
     "name": "stdout",
     "output_type": "stream",
     "text": [
      "0.9975577434722676 0.28292286811871803 2.497648440853754\n"
     ]
    }
   ],
   "source": [
    "print(r2_score(y_test[:,0],y_pred_multi[:,0]), mean_absolute_percentage_error(y_test[:,0],y_pred_multi[:,0])*100, mean_absolute_error(y_test[:,0],y_pred_multi[:,0]))"
   ]
  },
  {
   "cell_type": "code",
   "execution_count": 21,
   "metadata": {},
   "outputs": [
    {
     "name": "stdout",
     "output_type": "stream",
     "text": [
      "0.9976857289401493 0.26755583506472796 2.369615605011944\n"
     ]
    }
   ],
   "source": [
    "print(r2_score(y_test[:,1],y_pred_multi[:,1]), mean_absolute_percentage_error(y_test[:,1],y_pred_multi[:,1])*100, mean_absolute_error(y_test[:,1],y_pred_multi[:,1]))"
   ]
  },
  {
   "cell_type": "code",
   "execution_count": 22,
   "metadata": {},
   "outputs": [],
   "source": [
    "model_chain = RegressorChain(LinearRegression()).fit(X_train, y_train)\n",
    "y_pred_chain = model_chain.predict(X_test)"
   ]
  },
  {
   "cell_type": "code",
   "execution_count": 23,
   "metadata": {},
   "outputs": [
    {
     "name": "stdout",
     "output_type": "stream",
     "text": [
      "0.9975577434722676 0.28292286811871803 2.497648440853754\n"
     ]
    }
   ],
   "source": [
    "print(r2_score(y_test[:,0],y_pred_chain[:,0]), mean_absolute_percentage_error(y_test[:,0],y_pred_chain[:,0])*100, mean_absolute_error(y_test[:,0],y_pred_chain[:,0]))"
   ]
  },
  {
   "cell_type": "code",
   "execution_count": 24,
   "metadata": {},
   "outputs": [
    {
     "name": "stdout",
     "output_type": "stream",
     "text": [
      "0.9976857289401493 0.26755583506472846 2.369615605011948\n"
     ]
    }
   ],
   "source": [
    "print(r2_score(y_test[:,1],y_pred_chain[:,1]), mean_absolute_percentage_error(y_test[:,1],y_pred_chain[:,1])*100, mean_absolute_error(y_test[:,1],y_pred_chain[:,1]))"
   ]
  }
 ],
 "metadata": {
  "kernelspec": {
   "display_name": "Python 3",
   "language": "python",
   "name": "python3"
  },
  "language_info": {
   "codemirror_mode": {
    "name": "ipython",
    "version": 3
   },
   "file_extension": ".py",
   "mimetype": "text/x-python",
   "name": "python",
   "nbconvert_exporter": "python",
   "pygments_lexer": "ipython3",
   "version": "3.10.12"
  }
 },
 "nbformat": 4,
 "nbformat_minor": 2
}
