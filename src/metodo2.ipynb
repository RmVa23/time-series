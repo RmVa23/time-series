{
 "cells": [
  {
   "cell_type": "code",
   "execution_count": 7,
   "metadata": {},
   "outputs": [],
   "source": [
    "import pandas as pd\n",
    "import numpy as np\n",
    "import statsmodels.api as sm"
   ]
  },
  {
   "cell_type": "code",
   "execution_count": 8,
   "metadata": {},
   "outputs": [
    {
     "data": {
      "text/html": [
       "<div>\n",
       "<style scoped>\n",
       "    .dataframe tbody tr th:only-of-type {\n",
       "        vertical-align: middle;\n",
       "    }\n",
       "\n",
       "    .dataframe tbody tr th {\n",
       "        vertical-align: top;\n",
       "    }\n",
       "\n",
       "    .dataframe thead th {\n",
       "        text-align: right;\n",
       "    }\n",
       "</style>\n",
       "<table border=\"1\" class=\"dataframe\">\n",
       "  <thead>\n",
       "    <tr style=\"text-align: right;\">\n",
       "      <th></th>\n",
       "      <th>date</th>\n",
       "      <th>sales</th>\n",
       "    </tr>\n",
       "  </thead>\n",
       "  <tbody>\n",
       "    <tr>\n",
       "      <th>0</th>\n",
       "      <td>2022-09-03</td>\n",
       "      <td>55.292157</td>\n",
       "    </tr>\n",
       "    <tr>\n",
       "      <th>1</th>\n",
       "      <td>2022-09-04</td>\n",
       "      <td>53.803211</td>\n",
       "    </tr>\n",
       "    <tr>\n",
       "      <th>2</th>\n",
       "      <td>2022-09-05</td>\n",
       "      <td>58.141693</td>\n",
       "    </tr>\n",
       "    <tr>\n",
       "      <th>3</th>\n",
       "      <td>2022-09-06</td>\n",
       "      <td>64.530899</td>\n",
       "    </tr>\n",
       "    <tr>\n",
       "      <th>4</th>\n",
       "      <td>2022-09-07</td>\n",
       "      <td>66.013633</td>\n",
       "    </tr>\n",
       "  </tbody>\n",
       "</table>\n",
       "</div>"
      ],
      "text/plain": [
       "         date      sales\n",
       "0  2022-09-03  55.292157\n",
       "1  2022-09-04  53.803211\n",
       "2  2022-09-05  58.141693\n",
       "3  2022-09-06  64.530899\n",
       "4  2022-09-07  66.013633"
      ]
     },
     "execution_count": 8,
     "metadata": {},
     "output_type": "execute_result"
    }
   ],
   "source": [
    "data = pd.read_csv('/workspaces/time-series/data/processed/time-serie.csv')\n",
    "data.head()"
   ]
  },
  {
   "cell_type": "code",
   "execution_count": 9,
   "metadata": {},
   "outputs": [],
   "source": [
    "data_train = data.iloc[:-91]\n",
    "data_test = data.iloc[-91:]"
   ]
  },
  {
   "cell_type": "code",
   "execution_count": 10,
   "metadata": {},
   "outputs": [
    {
     "data": {
      "text/html": [
       "<div>\n",
       "<style scoped>\n",
       "    .dataframe tbody tr th:only-of-type {\n",
       "        vertical-align: middle;\n",
       "    }\n",
       "\n",
       "    .dataframe tbody tr th {\n",
       "        vertical-align: top;\n",
       "    }\n",
       "\n",
       "    .dataframe thead th {\n",
       "        text-align: right;\n",
       "    }\n",
       "</style>\n",
       "<table border=\"1\" class=\"dataframe\">\n",
       "  <thead>\n",
       "    <tr style=\"text-align: right;\">\n",
       "      <th></th>\n",
       "      <th>date</th>\n",
       "      <th>sales</th>\n",
       "    </tr>\n",
       "  </thead>\n",
       "  <tbody>\n",
       "    <tr>\n",
       "      <th>270</th>\n",
       "      <td>2023-05-31</td>\n",
       "      <td>753.936865</td>\n",
       "    </tr>\n",
       "    <tr>\n",
       "      <th>271</th>\n",
       "      <td>2023-06-01</td>\n",
       "      <td>747.024687</td>\n",
       "    </tr>\n",
       "    <tr>\n",
       "      <th>272</th>\n",
       "      <td>2023-06-02</td>\n",
       "      <td>763.812942</td>\n",
       "    </tr>\n",
       "    <tr>\n",
       "      <th>273</th>\n",
       "      <td>2023-06-03</td>\n",
       "      <td>761.718225</td>\n",
       "    </tr>\n",
       "    <tr>\n",
       "      <th>274</th>\n",
       "      <td>2023-06-04</td>\n",
       "      <td>761.193459</td>\n",
       "    </tr>\n",
       "  </tbody>\n",
       "</table>\n",
       "</div>"
      ],
      "text/plain": [
       "           date       sales\n",
       "270  2023-05-31  753.936865\n",
       "271  2023-06-01  747.024687\n",
       "272  2023-06-02  763.812942\n",
       "273  2023-06-03  761.718225\n",
       "274  2023-06-04  761.193459"
      ]
     },
     "execution_count": 10,
     "metadata": {},
     "output_type": "execute_result"
    }
   ],
   "source": [
    "data_train.tail()"
   ]
  },
  {
   "cell_type": "code",
   "execution_count": 11,
   "metadata": {},
   "outputs": [
    {
     "data": {
      "text/html": [
       "<div>\n",
       "<style scoped>\n",
       "    .dataframe tbody tr th:only-of-type {\n",
       "        vertical-align: middle;\n",
       "    }\n",
       "\n",
       "    .dataframe tbody tr th {\n",
       "        vertical-align: top;\n",
       "    }\n",
       "\n",
       "    .dataframe thead th {\n",
       "        text-align: right;\n",
       "    }\n",
       "</style>\n",
       "<table border=\"1\" class=\"dataframe\">\n",
       "  <thead>\n",
       "    <tr style=\"text-align: right;\">\n",
       "      <th></th>\n",
       "      <th>date</th>\n",
       "      <th>sales</th>\n",
       "    </tr>\n",
       "  </thead>\n",
       "  <tbody>\n",
       "    <tr>\n",
       "      <th>275</th>\n",
       "      <td>2023-06-05</td>\n",
       "      <td>764.580565</td>\n",
       "    </tr>\n",
       "    <tr>\n",
       "      <th>276</th>\n",
       "      <td>2023-06-06</td>\n",
       "      <td>769.837390</td>\n",
       "    </tr>\n",
       "    <tr>\n",
       "      <th>277</th>\n",
       "      <td>2023-06-07</td>\n",
       "      <td>770.610592</td>\n",
       "    </tr>\n",
       "    <tr>\n",
       "      <th>278</th>\n",
       "      <td>2023-06-08</td>\n",
       "      <td>767.469590</td>\n",
       "    </tr>\n",
       "    <tr>\n",
       "      <th>279</th>\n",
       "      <td>2023-06-09</td>\n",
       "      <td>782.357862</td>\n",
       "    </tr>\n",
       "  </tbody>\n",
       "</table>\n",
       "</div>"
      ],
      "text/plain": [
       "           date       sales\n",
       "275  2023-06-05  764.580565\n",
       "276  2023-06-06  769.837390\n",
       "277  2023-06-07  770.610592\n",
       "278  2023-06-08  767.469590\n",
       "279  2023-06-09  782.357862"
      ]
     },
     "execution_count": 11,
     "metadata": {},
     "output_type": "execute_result"
    }
   ],
   "source": [
    "data_test.head()"
   ]
  },
  {
   "cell_type": "code",
   "execution_count": 12,
   "metadata": {},
   "outputs": [],
   "source": [
    "n = 4\n",
    "XY_train = np.array([data_train[i:i+n].sales.values for i in range(len(data_train)) if len(data_train[i:i+n])==n])\n",
    "X_train, y_train = XY_train[:,:-1], XY_train[:,-1]\n",
    "\n",
    "XY_test = np.array([data_test[i:i+n].sales.values for i in range(len(data_test)) if len(data_test[i:i+n])==n])\n",
    "X_test, y_test = XY_test[:,:-1], XY_test[:,-1]"
   ]
  },
  {
   "cell_type": "markdown",
   "metadata": {},
   "source": [
    "Define el tamaño de la ventana n para el análisis de series de tiempo. En este caso, n = 4.\n",
    "Para el conjunto de entrenamiento (df_train), crea una matriz XY_train donde cada fila representa una secuencia de longitud n + 1, donde los primeros n elementos son los valores de la columna Average y el último elemento es el valor siguiente de Average. Para hacer esto:\n",
    "Itera sobre todas las filas del DataFrame df_train utilizando un bucle for.\n",
    "Para cada fila, extrae una secuencia de longitud n de los valores de la columna Average utilizando la notación de indexación de Pandas [i:i+n].\n",
    "Si la longitud de la secuencia es igual a n, agrega esta secuencia a la matriz XY_train.\n",
    "Divide la matriz XY_train en dos partes:\n",
    "X_train: Contiene todas las columnas excepto la última, que representan los valores de Average en un intervalo de tiempo.\n",
    "y_train: Contiene la última columna, que representa el valor siguiente de Average.\n",
    "Repite el mismo proceso para el conjunto de prueba (df_test) para crear las matrices X_test e y_test.\n",
    "En resumen, este código prepara los datos para un modelo de aprendizaje supervisado donde se intenta predecir el valor siguiente de la columna Average utilizando los valores anteriores en una ventana de tiempo de longitud n."
   ]
  },
  {
   "cell_type": "code",
   "execution_count": 13,
   "metadata": {},
   "outputs": [],
   "source": [
    "# Crear el modelo de regresión lineal\n",
    "X_train_const = sm.add_constant(X_train)\n",
    "model = sm.OLS(y_train, X_train_const)\n",
    "# Ajustar el modelo a los datos\n",
    "results = model.fit()"
   ]
  },
  {
   "cell_type": "markdown",
   "metadata": {},
   "source": [
    "Añade una columna de unos (constante) a la matriz de características de entrenamiento X_train utilizando sm.add_constant(). Esta columna constante es necesaria para calcular el intercepto en el modelo de regresión lineal.\n",
    "Crea un modelo de regresión lineal ordinaria (OLS) utilizando la biblioteca statsmodels. Se ajusta el modelo utilizando la función sm.OLS(y_train, X_train_const), donde y_train es la variable de respuesta (la columna Average que se intenta predecir) y X_train_const es la matriz de características de entrenamiento, que incluye la columna constante añadida."
   ]
  },
  {
   "cell_type": "code",
   "execution_count": 14,
   "metadata": {},
   "outputs": [
    {
     "name": "stdout",
     "output_type": "stream",
     "text": [
      "                            OLS Regression Results                            \n",
      "==============================================================================\n",
      "Dep. Variable:                      y   R-squared:                       1.000\n",
      "Model:                            OLS   Adj. R-squared:                  1.000\n",
      "Method:                 Least Squares   F-statistic:                 3.281e+05\n",
      "Date:                Fri, 03 May 2024   Prob (F-statistic):               0.00\n",
      "Time:                        11:51:28   Log-Likelihood:                -716.18\n",
      "No. Observations:                 272   AIC:                             1440.\n",
      "Df Residuals:                     268   BIC:                             1455.\n",
      "Df Model:                           3                                         \n",
      "Covariance Type:            nonrobust                                         \n",
      "==============================================================================\n",
      "                 coef    std err          t      P>|t|      [0.025      0.975]\n",
      "------------------------------------------------------------------------------\n",
      "const          5.3091      0.522     10.161      0.000       4.280       6.338\n",
      "x1             0.3574      0.057      6.227      0.000       0.244       0.470\n",
      "x2             0.3539      0.056      6.346      0.000       0.244       0.464\n",
      "x3             0.2888      0.057      5.037      0.000       0.176       0.402\n",
      "==============================================================================\n",
      "Omnibus:                        0.708   Durbin-Watson:                   2.126\n",
      "Prob(Omnibus):                  0.702   Jarque-Bera (JB):                0.797\n",
      "Skew:                           0.026   Prob(JB):                        0.671\n",
      "Kurtosis:                       2.740   Cond. No.                     2.00e+03\n",
      "==============================================================================\n",
      "\n",
      "Notes:\n",
      "[1] Standard Errors assume that the covariance matrix of the errors is correctly specified.\n",
      "[2] The condition number is large,  2e+03. This might indicate that there are\n",
      "strong multicollinearity or other numerical problems.\n"
     ]
    }
   ],
   "source": [
    "print(results.summary())"
   ]
  },
  {
   "cell_type": "code",
   "execution_count": null,
   "metadata": {},
   "outputs": [],
   "source": []
  }
 ],
 "metadata": {
  "kernelspec": {
   "display_name": "Python 3",
   "language": "python",
   "name": "python3"
  },
  "language_info": {
   "codemirror_mode": {
    "name": "ipython",
    "version": 3
   },
   "file_extension": ".py",
   "mimetype": "text/x-python",
   "name": "python",
   "nbconvert_exporter": "python",
   "pygments_lexer": "ipython3",
   "version": "3.10.12"
  }
 },
 "nbformat": 4,
 "nbformat_minor": 2
}
