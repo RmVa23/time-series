{
    "cells": [
        {
            "cell_type": "markdown",
            "metadata": {},
            "source": [
                "# Explore here"
            ]
        },
        {
            "cell_type": "code",
            "execution_count": 28,
            "metadata": {},
            "outputs": [],
            "source": [
                "import pandas as pd\n",
                "import matplotlib.pyplot as plt\n",
                "import seaborn as sns\n",
                "from statsmodels.tsa.seasonal import seasonal_decompose"
            ]
        },
        {
            "cell_type": "code",
            "execution_count": 29,
            "metadata": {},
            "outputs": [
                {
                    "data": {
                        "text/html": [
                            "<div>\n",
                            "<style scoped>\n",
                            "    .dataframe tbody tr th:only-of-type {\n",
                            "        vertical-align: middle;\n",
                            "    }\n",
                            "\n",
                            "    .dataframe tbody tr th {\n",
                            "        vertical-align: top;\n",
                            "    }\n",
                            "\n",
                            "    .dataframe thead th {\n",
                            "        text-align: right;\n",
                            "    }\n",
                            "</style>\n",
                            "<table border=\"1\" class=\"dataframe\">\n",
                            "  <thead>\n",
                            "    <tr style=\"text-align: right;\">\n",
                            "      <th></th>\n",
                            "      <th>date</th>\n",
                            "      <th>sales</th>\n",
                            "    </tr>\n",
                            "  </thead>\n",
                            "  <tbody>\n",
                            "    <tr>\n",
                            "      <th>0</th>\n",
                            "      <td>2022-09-03 17:10:08.079328</td>\n",
                            "      <td>55.292157</td>\n",
                            "    </tr>\n",
                            "    <tr>\n",
                            "      <th>1</th>\n",
                            "      <td>2022-09-04 17:10:08.079328</td>\n",
                            "      <td>53.803211</td>\n",
                            "    </tr>\n",
                            "    <tr>\n",
                            "      <th>2</th>\n",
                            "      <td>2022-09-05 17:10:08.079328</td>\n",
                            "      <td>58.141693</td>\n",
                            "    </tr>\n",
                            "    <tr>\n",
                            "      <th>3</th>\n",
                            "      <td>2022-09-06 17:10:08.079328</td>\n",
                            "      <td>64.530899</td>\n",
                            "    </tr>\n",
                            "    <tr>\n",
                            "      <th>4</th>\n",
                            "      <td>2022-09-07 17:10:08.079328</td>\n",
                            "      <td>66.013633</td>\n",
                            "    </tr>\n",
                            "  </tbody>\n",
                            "</table>\n",
                            "</div>"
                        ],
                        "text/plain": [
                            "                         date      sales\n",
                            "0  2022-09-03 17:10:08.079328  55.292157\n",
                            "1  2022-09-04 17:10:08.079328  53.803211\n",
                            "2  2022-09-05 17:10:08.079328  58.141693\n",
                            "3  2022-09-06 17:10:08.079328  64.530899\n",
                            "4  2022-09-07 17:10:08.079328  66.013633"
                        ]
                    },
                    "execution_count": 29,
                    "metadata": {},
                    "output_type": "execute_result"
                }
            ],
            "source": [
                "data = pd.read_csv('https://raw.githubusercontent.com/4GeeksAcademy/alternative-time-series-project/main/sales.csv')\n",
                "data.head()"
            ]
        },
        {
            "cell_type": "code",
            "execution_count": 30,
            "metadata": {},
            "outputs": [
                {
                    "data": {
                        "text/plain": [
                            "(366, 2)"
                        ]
                    },
                    "execution_count": 30,
                    "metadata": {},
                    "output_type": "execute_result"
                }
            ],
            "source": [
                "data.shape"
            ]
        },
        {
            "cell_type": "code",
            "execution_count": 31,
            "metadata": {},
            "outputs": [
                {
                    "name": "stdout",
                    "output_type": "stream",
                    "text": [
                        "<class 'pandas.core.frame.DataFrame'>\n",
                        "RangeIndex: 366 entries, 0 to 365\n",
                        "Data columns (total 2 columns):\n",
                        " #   Column  Non-Null Count  Dtype  \n",
                        "---  ------  --------------  -----  \n",
                        " 0   date    366 non-null    object \n",
                        " 1   sales   366 non-null    float64\n",
                        "dtypes: float64(1), object(1)\n",
                        "memory usage: 5.8+ KB\n"
                    ]
                }
            ],
            "source": [
                "data.info()"
            ]
        },
        {
            "cell_type": "code",
            "execution_count": 32,
            "metadata": {},
            "outputs": [
                {
                    "data": {
                        "text/html": [
                            "<div>\n",
                            "<style scoped>\n",
                            "    .dataframe tbody tr th:only-of-type {\n",
                            "        vertical-align: middle;\n",
                            "    }\n",
                            "\n",
                            "    .dataframe tbody tr th {\n",
                            "        vertical-align: top;\n",
                            "    }\n",
                            "\n",
                            "    .dataframe thead th {\n",
                            "        text-align: right;\n",
                            "    }\n",
                            "</style>\n",
                            "<table border=\"1\" class=\"dataframe\">\n",
                            "  <thead>\n",
                            "    <tr style=\"text-align: right;\">\n",
                            "      <th></th>\n",
                            "      <th>date</th>\n",
                            "      <th>sales</th>\n",
                            "    </tr>\n",
                            "  </thead>\n",
                            "  <tbody>\n",
                            "    <tr>\n",
                            "      <th>0</th>\n",
                            "      <td>2022-09-03</td>\n",
                            "      <td>55.292157</td>\n",
                            "    </tr>\n",
                            "    <tr>\n",
                            "      <th>1</th>\n",
                            "      <td>2022-09-04</td>\n",
                            "      <td>53.803211</td>\n",
                            "    </tr>\n",
                            "    <tr>\n",
                            "      <th>2</th>\n",
                            "      <td>2022-09-05</td>\n",
                            "      <td>58.141693</td>\n",
                            "    </tr>\n",
                            "    <tr>\n",
                            "      <th>3</th>\n",
                            "      <td>2022-09-06</td>\n",
                            "      <td>64.530899</td>\n",
                            "    </tr>\n",
                            "    <tr>\n",
                            "      <th>4</th>\n",
                            "      <td>2022-09-07</td>\n",
                            "      <td>66.013633</td>\n",
                            "    </tr>\n",
                            "  </tbody>\n",
                            "</table>\n",
                            "</div>"
                        ],
                        "text/plain": [
                            "         date      sales\n",
                            "0  2022-09-03  55.292157\n",
                            "1  2022-09-04  53.803211\n",
                            "2  2022-09-05  58.141693\n",
                            "3  2022-09-06  64.530899\n",
                            "4  2022-09-07  66.013633"
                        ]
                    },
                    "execution_count": 32,
                    "metadata": {},
                    "output_type": "execute_result"
                }
            ],
            "source": [
                "data['date'] = pd.to_datetime(data['date'])  # Convertimos la columna \"date\" al formato datetime\n",
                "\n",
                "data['date'] = data['date'].dt.date   # Eliminamos las horas de la columna \"date\" y dejamos solo el día, el año y el mes\n",
                "\n",
                "# .dt: accesorio especial para las columnas de tipo fecha y hora en pandas que permite acceder a métodos específicos de fecha y hora.\n",
                "# .date: Este método se aplica al accesorio .dt y se utiliza para extraer solo la fecha (sin la hora) de cada valor de fecha y hora en la columna 'date'.\n",
                "#Convierte los valores de fecha y hora en objetos de fecha (datetime.date), que representan solo la parte de fecha sin la parte de hora.\n",
                "\n",
                "data.head()"
            ]
        },
        {
            "cell_type": "code",
            "execution_count": 33,
            "metadata": {},
            "outputs": [
                {
                    "name": "stdout",
                    "output_type": "stream",
                    "text": [
                        "2022-09-03 2023-09-03\n"
                    ]
                }
            ],
            "source": [
                "print(data['date'].min(),data['date'].max())"
            ]
        },
        {
            "cell_type": "code",
            "execution_count": 34,
            "metadata": {},
            "outputs": [],
            "source": [
                "data = data.set_index(\"date\")  # establece la columna \"date\" como el índice del DataFrame\n",
                "ts = data[\"sales\"]"
            ]
        },
        {
            "cell_type": "code",
            "execution_count": 35,
            "metadata": {},
            "outputs": [
                {
                    "data": {
                        "image/png": "[encoded data removed]",
                        "text/plain": [
                            "<Figure size 1000x500 with 1 Axes>"
                        ]
                    },
                    "metadata": {},
                    "output_type": "display_data"
                }
            ],
            "source": [
                "# Visualizamos la serie temporal\n",
                "\n",
                "fig, axis = plt.subplots(figsize = (10, 5))\n",
                "\n",
                "sns.lineplot(data = ts)\n",
                "\n",
                "plt.tight_layout()\n",
                "\n",
                "plt.show()"
            ]
        },
        {
            "cell_type": "markdown",
            "metadata": {},
            "source": [
                " - Tendencia: La tendencia es claramente ascendente, lo que indica un crecimiento constante en las ventas a lo largo del tiempo. Esto podría deberse a un aumento en la demanda de los productos o servicios ofrecidos.\n",
                "\n",
                " - Estacionalidad: Dado que no se observa una variación cíclica o estacional clara en los datos, es posible que no haya patrones estacionales significativos en las ventas. Sin embargo, para confirmar esto, sería necesario realizar un análisis más detallado, como descomponer la serie temporal en componentes de tendencia, estacionalidad y residuos.\n",
                "\n",
                " - Variabilidad: La variabilidad en la serie parece ser relativamente baja, ya que la línea es casi recta. Esto sugiere una consistencia en las ventas a lo largo del tiempo, con poca fluctuación.\n",
                "\n",
                " - Puntos atípicos: No parece haber puntos atípicos o valores extremadamente altos o bajos que se aparten significativamente de la tendencia general de crecimiento. Sin embargo, para confirmar la presencia de puntos atípicos, sería necesario realizar un análisis estadístico más exhaustivo, como identificar valores atípicos basados en criterios específicos.\n",
                "\n",
                " - Puntos de inflexión: Dado que la serie muestra una tendencia claramente ascendente sin cambios bruscos en la dirección, es poco probable que haya puntos de inflexión evidentes en los datos. Los puntos de inflexión representan cambios en la dirección de la tendencia, y su ausencia sugiere una evolución gradual y constante en las ventas."
            ]
        },
        {
            "cell_type": "markdown",
            "metadata": {},
            "source": [
                "Descomposición de la serie"
            ]
        },
        {
            "cell_type": "code",
            "execution_count": 36,
            "metadata": {},
            "outputs": [
                {
                    "data": {
                        "text/plain": [
                            "<statsmodels.tsa.seasonal.DecomposeResult at 0x7f7947b08dc0>"
                        ]
                    },
                    "execution_count": 36,
                    "metadata": {},
                    "output_type": "execute_result"
                }
            ],
            "source": [
                "decomposition = seasonal_decompose(ts, period = 12)\n",
                "decomposition\n",
                "\n",
                "# función 'seasonal_decompose' a la serie temporal 'ts' con un período de estacionalidad especificado como '12'.\n",
                "# La estacionalidad se refiere a patrones que se repiten a lo largo de un período fijo, como los ciclos estacionales mensuales en datos de ventas.\n",
                "# El parámetro period especifica la longitud del período estacional. En este caso, se asume que hay una estacionalidad de 12 meses (un año)."
            ]
        },
        {
            "cell_type": "markdown",
            "metadata": {},
            "source": [
                "<statsmodels.tsa.seasonal.DecomposeResult at 0x7f7947b08dc0> es la representación del objeto devuelto por la función seasonal_decompose de statsmodels. Este objeto contiene los resultados de la descomposición estacional, que incluyen la tendencia, la estacionalidad y el residuo. Puedes acceder a estos componentes a través de los atributos del objeto DecomposeResult."
            ]
        },
        {
            "cell_type": "code",
            "execution_count": null,
            "metadata": {},
            "outputs": [],
            "source": []
        }
    ],
    "metadata": {
        "kernelspec": {
            "display_name": "Python 3.8.13 64-bit ('3.8.13')",
            "language": "python",
            "name": "python3"
        },
        "language_info": {
            "codemirror_mode": {
                "name": "ipython",
                "version": 3
            },
            "file_extension": ".py",
            "mimetype": "text/x-python",
            "name": "python",
            "nbconvert_exporter": "python",
            "pygments_lexer": "ipython3",
            "version": "3.10.12"
        },
        "orig_nbformat": 4,
        "vscode": {
            "interpreter": {
                "hash": "110cc1dee26208153f2972f08a2ad52b6a56238dc66d48e87fb757ef2996db56"
            }
        }
    },
    "nbformat": 4,
    "nbformat_minor": 2
}
